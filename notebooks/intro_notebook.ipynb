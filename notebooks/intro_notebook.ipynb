{
  "nbformat": 4,
  "nbformat_minor": 0,
  "metadata": {
    "colab": {
      "provenance": []
    },
    "kernelspec": {
      "name": "python3",
      "display_name": "Python 3"
    },
    "language_info": {
      "name": "python"
    }
  },
  "cells": [
    {
      "cell_type": "markdown",
      "source": [
        "# Intro to Jupyter Notebooks and Google Colab\n",
        "\n",
        "[![Open In Colab](https://colab.research.google.com/assets/colab-badge.svg)](https://colab.research.google.com/github/unstructured-data/IESE_presession_23/blob/main/notebooks/intro_notebook.ipynb)\n",
        "\n",
        "<br><br>\n",
        "\n",
        "- Advantages and limitations\n",
        "- Navigation panel\n",
        "- Downloading files\n"
      ],
      "metadata": {
        "id": "vbFlO6GyH04C"
      }
    },
    {
      "cell_type": "code",
      "execution_count": null,
      "metadata": {
        "id": "bAzxtuu2GfW1"
      },
      "outputs": [],
      "source": [
        "# install python libraries\n",
        "!pip3 install pandas"
      ]
    }
  ]
}