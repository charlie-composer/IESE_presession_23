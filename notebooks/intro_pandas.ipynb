{
  "cells": [
    {
      "cell_type": "markdown",
      "metadata": {
        "id": "q2eRjQCONuDm"
      },
      "source": [
        "# Introduction to Pandas\n",
        "\n",
        "\n",
        "[![Open In Colab](https://colab.research.google.com/assets/colab-badge.svg)](https://colab.research.google.com/github/unstructured-data/IESE_presession_23/blob/main/notebooks/intro_pandas.ipynb)\n"
      ]
    },
    {
      "cell_type": "code",
      "execution_count": 20,
      "metadata": {
        "id": "gjyo8N0L3KGt"
      },
      "outputs": [],
      "source": [
        "# load pandas into memory\n",
        "import pandas as pd"
      ]
    },
    {
      "cell_type": "code",
      "execution_count": 21,
      "metadata": {
        "id": "IHivxf_y3KGu"
      },
      "outputs": [],
      "source": [
        "# what are we importing?"
      ]
    },
    {
      "cell_type": "code",
      "execution_count": 22,
      "metadata": {
        "id": "ZILq1T6Y3KGu"
      },
      "outputs": [],
      "source": [
        "# create a dataframe from a dictionary (countries and currency)"
      ]
    },
    {
      "cell_type": "code",
      "execution_count": 23,
      "metadata": {
        "id": "3bULFs6y3KGu"
      },
      "outputs": [],
      "source": [
        "# read data from a csv file (Colab sample files: sample_data/california_housing_train.csv)"
      ]
    },
    {
      "cell_type": "code",
      "execution_count": 24,
      "metadata": {
        "id": "mNRdJVJ53KGu"
      },
      "outputs": [],
      "source": [
        "# reading data from other file types\n",
        "#df_json = pd.read_json(\"sample_data/anscombe.json\")\n",
        "\n",
        "#df_excel = pd.read_excel(\"data/iris.xlsx\")\n",
        "#df_stata = pd.read_stata(\"data/iris.dta\")"
      ]
    },
    {
      "cell_type": "code",
      "source": [
        "# read data from file with a different separator\n",
        "#df = pd.read_csv(\"data/iris.txt\", sep=\"\\t\")"
      ],
      "metadata": {
        "id": "ddMXagPoiB07"
      },
      "execution_count": 25,
      "outputs": []
    },
    {
      "cell_type": "code",
      "source": [
        "# get all the column names from a dataframe"
      ],
      "metadata": {
        "id": "pjDwIFw3iiMI"
      },
      "execution_count": 26,
      "outputs": []
    },
    {
      "cell_type": "code",
      "execution_count": 27,
      "metadata": {
        "id": "hS9KtHsE3KGv"
      },
      "outputs": [],
      "source": [
        "# select a column using its name"
      ]
    },
    {
      "cell_type": "code",
      "execution_count": 28,
      "metadata": {
        "id": "VC4CwM1M3KGv"
      },
      "outputs": [],
      "source": [
        "# select a row using its index"
      ]
    },
    {
      "cell_type": "code",
      "execution_count": 14,
      "metadata": {
        "id": "Og2AFqu33KGv"
      },
      "outputs": [],
      "source": [
        "# select a particular cell"
      ]
    },
    {
      "cell_type": "code",
      "execution_count": null,
      "metadata": {
        "id": "QQLlIwLn3KGv"
      },
      "outputs": [],
      "source": [
        "# filter data"
      ]
    },
    {
      "cell_type": "code",
      "source": [
        "# sum all elements of a column (what is the total population?)"
      ],
      "metadata": {
        "id": "ARgXdg5EjiWZ"
      },
      "execution_count": null,
      "outputs": []
    },
    {
      "cell_type": "code",
      "execution_count": null,
      "metadata": {
        "id": "KMF7HvIX3KGv"
      },
      "outputs": [],
      "source": [
        "# apply a custom function to all elements of a column"
      ]
    },
    {
      "cell_type": "code",
      "execution_count": null,
      "metadata": {
        "id": "ynX_LKg43KGw"
      },
      "outputs": [],
      "source": [
        "# create a new column"
      ]
    },
    {
      "cell_type": "code",
      "execution_count": null,
      "metadata": {
        "id": "n3q-7z3t3KGw"
      },
      "outputs": [],
      "source": [
        "# group data"
      ]
    },
    {
      "cell_type": "markdown",
      "metadata": {
        "id": "c-qwp2mH3KGw"
      },
      "source": [
        "## Loading data from other sources"
      ]
    },
    {
      "cell_type": "code",
      "source": [
        "# read data from URL: https://raw.githubusercontent.com/datasciencedojo/datasets/master/titanic.csv"
      ],
      "metadata": {
        "id": "vooheqNvkomj"
      },
      "execution_count": null,
      "outputs": []
    },
    {
      "cell_type": "code",
      "execution_count": 19,
      "metadata": {
        "id": "NxnYkN4i3KGw"
      },
      "outputs": [],
      "source": [
        "# read data from a public Google Drive URL\n",
        "file_id = \"1k086m12gBHKuVMPv4GUD1aB_kZOZpznR\"\n",
        "url = f\"https://drive.google.com/uc?export=download&id={file_id}&authuser=0&export=download\"\n",
        "df = pd.read_csv(url, sep=\"\\t\")\n",
        "df"
      ]
    },
    {
      "cell_type": "code",
      "execution_count": null,
      "metadata": {
        "id": "QycLHH-33KGw"
      },
      "outputs": [],
      "source": [
        "# mount our own Google Drive\n",
        "from google.colab import drive\n",
        "drive.mount('/content/drive')"
      ]
    }
  ],
  "metadata": {
    "colab": {
      "provenance": []
    },
    "kernelspec": {
      "display_name": "Python 3",
      "name": "python3"
    },
    "language_info": {
      "codemirror_mode": {
        "name": "ipython",
        "version": 3
      },
      "file_extension": ".py",
      "mimetype": "text/x-python",
      "name": "python",
      "nbconvert_exporter": "python",
      "pygments_lexer": "ipython3",
      "version": "3.10.2"
    }
  },
  "nbformat": 4,
  "nbformat_minor": 0
}