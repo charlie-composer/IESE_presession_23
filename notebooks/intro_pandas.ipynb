{
  "cells": [
    {
      "attachments": {},
      "cell_type": "markdown",
      "metadata": {
        "id": "q2eRjQCONuDm"
      },
      "source": [
        "# Introduction to Pandas\n",
        "\n",
        "\n",
        "[![Open In Colab](https://colab.research.google.com/assets/colab-badge.svg)](https://colab.research.google.com/github/unstructured-data/IESE_presession_23/blob/main/notebooks/intro_pandas.ipynb)\n"
      ]
    },
    {
      "cell_type": "code",
      "execution_count": null,
      "metadata": {
        "id": "gjyo8N0L3KGt"
      },
      "outputs": [],
      "source": [
        "# expand python's capacity with packages\n",
        "import pandas as pd"
      ]
    },
    {
      "cell_type": "code",
      "execution_count": null,
      "metadata": {
        "id": "IHivxf_y3KGu"
      },
      "outputs": [],
      "source": [
        "# what are we importing?"
      ]
    },
    {
      "cell_type": "code",
      "execution_count": null,
      "metadata": {
        "id": "ZILq1T6Y3KGu",
        "outputId": "6e974396-573b-4494-f018-8db981806958"
      },
      "outputs": [
        {
          "data": {
            "text/html": [
              "<div>\n",
              "<style scoped>\n",
              "    .dataframe tbody tr th:only-of-type {\n",
              "        vertical-align: middle;\n",
              "    }\n",
              "\n",
              "    .dataframe tbody tr th {\n",
              "        vertical-align: top;\n",
              "    }\n",
              "\n",
              "    .dataframe thead th {\n",
              "        text-align: right;\n",
              "    }\n",
              "</style>\n",
              "<table border=\"1\" class=\"dataframe\">\n",
              "  <thead>\n",
              "    <tr style=\"text-align: right;\">\n",
              "      <th></th>\n",
              "      <th>name</th>\n",
              "      <th>age</th>\n",
              "    </tr>\n",
              "  </thead>\n",
              "  <tbody>\n",
              "    <tr>\n",
              "      <th>0</th>\n",
              "      <td>John</td>\n",
              "      <td>30</td>\n",
              "    </tr>\n",
              "    <tr>\n",
              "      <th>1</th>\n",
              "      <td>Mary</td>\n",
              "      <td>25</td>\n",
              "    </tr>\n",
              "  </tbody>\n",
              "</table>\n",
              "</div>"
            ],
            "text/plain": [
              "   name  age\n",
              "0  John   30\n",
              "1  Mary   25"
            ]
          },
          "execution_count": 13,
          "metadata": {},
          "output_type": "execute_result"
        }
      ],
      "source": [
        "# create a dataframe from two lists\n",
        "df = pd.DataFrame({\"name\": [\"John\", \"Mary\"], \"age\": [30, 25]})\n",
        "df"
      ]
    },
    {
      "cell_type": "code",
      "execution_count": null,
      "metadata": {
        "id": "3bULFs6y3KGu"
      },
      "outputs": [],
      "source": [
        "# read data from a csv file\n",
        "#df = pd.read_csv(\"data/iris.csv\")"
      ]
    },
    {
      "cell_type": "code",
      "execution_count": null,
      "metadata": {
        "id": "eD1_7mvV3KGu"
      },
      "outputs": [],
      "source": [
        "# read data from file with a different separator\n",
        "#df = pd.read_csv(\"data/iris.csv\", sep=\"\\t\")"
      ]
    },
    {
      "cell_type": "code",
      "execution_count": null,
      "metadata": {
        "id": "mNRdJVJ53KGu"
      },
      "outputs": [],
      "source": [
        "# reading from other file types\n",
        "#df = pd.read_excel(\"data/iris.xlsx\")\n",
        "#df = pd.read_json(\"data/iris.json\")\n",
        "#df = pd.read_stata(\"data/iris.dta\")"
      ]
    },
    {
      "cell_type": "code",
      "execution_count": null,
      "metadata": {
        "id": "hS9KtHsE3KGv"
      },
      "outputs": [],
      "source": [
        "# select a column\n",
        "df[\"sepal_length\"]"
      ]
    },
    {
      "cell_type": "code",
      "execution_count": null,
      "metadata": {
        "id": "VC4CwM1M3KGv"
      },
      "outputs": [],
      "source": [
        "# select a row\n",
        "df.iloc[0]"
      ]
    },
    {
      "cell_type": "code",
      "execution_count": null,
      "metadata": {
        "id": "Og2AFqu33KGv"
      },
      "outputs": [],
      "source": [
        "# select a cell\n",
        "df[\"sepal_length\"].iloc[0]"
      ]
    },
    {
      "cell_type": "code",
      "execution_count": null,
      "metadata": {
        "id": "QQLlIwLn3KGv"
      },
      "outputs": [],
      "source": [
        "# filter data\n",
        "#df[df[\"species\"] == \"setosa\"]"
      ]
    },
    {
      "cell_type": "code",
      "execution_count": null,
      "metadata": {
        "id": "KMF7HvIX3KGv"
      },
      "outputs": [],
      "source": [
        "# apply a function to all elements of a column\n",
        "#df[\"sepal_length\"].apply(lambda x: x * 2)"
      ]
    },
    {
      "cell_type": "code",
      "execution_count": null,
      "metadata": {
        "id": "stGO3cBB3KGv"
      },
      "outputs": [],
      "source": [
        "# sum all elements of a column\n",
        "#df[\"sepal_length\"].sum()"
      ]
    },
    {
      "cell_type": "code",
      "execution_count": null,
      "metadata": {
        "id": "ynX_LKg43KGw"
      },
      "outputs": [],
      "source": [
        "# create a new column\n",
        "#df[\"sepal_length_in_cm\"] = df[\"sepal_length\"] / 10"
      ]
    },
    {
      "cell_type": "code",
      "execution_count": null,
      "metadata": {
        "id": "n3q-7z3t3KGw"
      },
      "outputs": [],
      "source": [
        "# group data\n",
        "#df.groupby(\"species\").mean()"
      ]
    },
    {
      "attachments": {},
      "cell_type": "markdown",
      "metadata": {
        "id": "c-qwp2mH3KGw"
      },
      "source": [
        "## Loading data from other sources"
      ]
    },
    {
      "cell_type": "code",
      "execution_count": null,
      "metadata": {
        "id": "NxnYkN4i3KGw"
      },
      "outputs": [],
      "source": [
        "# dowlonalod data from Google Drive URL\n",
        "#url = \"https://drive.google.com/uc?export=download\n",
        "#       &id=1QZqQ5Z\n",
        "#       &authuser=0\n",
        "#       &export=download\"\n",
        "#df = pd.read_csv(url)"
      ]
    },
    {
      "cell_type": "code",
      "execution_count": null,
      "metadata": {
        "id": "QycLHH-33KGw"
      },
      "outputs": [],
      "source": [
        "# mount Google Drive\n",
        "#from google.colab import drive\n",
        "#drive.mount('/content/drive')\n"
      ]
    }
  ],
  "metadata": {
    "colab": {
      "provenance": []
    },
    "kernelspec": {
      "display_name": "Python 3",
      "name": "python3"
    },
    "language_info": {
      "codemirror_mode": {
        "name": "ipython",
        "version": 3
      },
      "file_extension": ".py",
      "mimetype": "text/x-python",
      "name": "python",
      "nbconvert_exporter": "python",
      "pygments_lexer": "ipython3",
      "version": "3.10.2"
    }
  },
  "nbformat": 4,
  "nbformat_minor": 0
}
