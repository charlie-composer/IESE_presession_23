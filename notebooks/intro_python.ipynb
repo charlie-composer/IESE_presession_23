{
  "nbformat": 4,
  "nbformat_minor": 0,
  "metadata": {
    "colab": {
      "provenance": []
    },
    "kernelspec": {
      "name": "python3",
      "display_name": "Python 3"
    },
    "language_info": {
      "name": "python"
    }
  },
  "cells": [
    {
      "cell_type": "markdown",
      "source": [
        "# Introduction to Python\n",
        "\n",
        "[![Open In Colab](https://colab.research.google.com/assets/colab-badge.svg)](https://colab.research.google.com/github/unstructured-data/IESE_presession_23/blob/main/notebooks/intro_python.ipynb)\n",
        "\n",
        "<br><br>\n",
        "\n",
        "- Defining objects/variables (a = 2)\n",
        "- Importing libraries and using their methods (pd.DataFrame )\n",
        "- Data loading in Google Colab\n",
        "- Download files from Google Drive URL\n",
        "- Load files from personal Google Drive\n",
        "\n",
        "\n",
        "- Introduction to Pandas\n",
        "- Read multiple data files\n",
        "- Basic filtering operations with datasets\n"
      ],
      "metadata": {
        "id": "q2eRjQCONuDm"
      }
    },
    {
      "cell_type": "code",
      "execution_count": null,
      "metadata": {
        "id": "oU4Ia1z5NnNV"
      },
      "outputs": [],
      "source": []
    }
  ]
}